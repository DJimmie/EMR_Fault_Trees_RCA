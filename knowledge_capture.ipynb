{
 "cells": [
  {
   "cell_type": "markdown",
   "metadata": {},
   "source": [
    "# Depandancies"
   ]
  },
  {
   "cell_type": "code",
   "execution_count": 1,
   "metadata": {
    "ExecuteTime": {
     "end_time": "2020-08-04T12:45:33.309462Z",
     "start_time": "2020-08-04T12:45:28.058993Z"
    }
   },
   "outputs": [],
   "source": [
    "import numpy as np\n",
    "import pandas as pd\n",
    "import networkx as nx\n",
    "%matplotlib inline\n",
    "import matplotlib.pyplot as plt\n",
    "import datetime as dt\n",
    "from IPython.display import Image\n",
    "from IPython.core.display import HTML\n",
    "import sqlite3\n",
    "from networkx.algorithms import community\n",
    "from ipywidgets import interact\n",
    "import ipywidgets as widgets\n",
    "from IPython.display import clear_output\n",
    "from graphviz import Digraph\n",
    "import graphviz\n",
    "import pydot\n",
    "import qrcode\n",
    "import csv\n",
    "import os\n",
    "import sys\n",
    "os.environ[\"PATH\"] += os.pathsep + 'C:/Program Files (x86)/Graphviz2.38/bin/'\n",
    "\n",
    "try:\n",
    "    import tkinter.ttk\n",
    "    from tkinter import *\n",
    "#     from tkinter.ttk import *\n",
    "except:\n",
    "    from tkinter import *\n",
    "    \n",
    "from tabulate import tabulate    "
   ]
  },
  {
   "cell_type": "code",
   "execution_count": 2,
   "metadata": {
    "ExecuteTime": {
     "end_time": "2020-08-04T12:45:33.314452Z",
     "start_time": "2020-08-04T12:45:33.311460Z"
    }
   },
   "outputs": [],
   "source": [
    "global sqlite_server\n",
    "sqlite_server='knowledge.db'"
   ]
  },
  {
   "cell_type": "markdown",
   "metadata": {},
   "source": [
    "# Classes"
   ]
  },
  {
   "cell_type": "markdown",
   "metadata": {},
   "source": [
    "## graph data class"
   ]
  },
  {
   "cell_type": "code",
   "execution_count": 3,
   "metadata": {
    "ExecuteTime": {
     "end_time": "2020-08-04T12:45:33.340463Z",
     "start_time": "2020-08-04T12:45:33.316589Z"
    }
   },
   "outputs": [],
   "source": [
    " class Graph_Data():\n",
    "    \"\"\"Instance Source--Target--Attribute data to be graphed\"\"\"\n",
    "    \n",
    "    headers=['SOURCE','TARGET','DESCR','CLASSIFICATION']\n",
    "    e_class='TBD'\n",
    "    type_file='TBD'\n",
    "    df=pd.DataFrame()\n",
    "    \n",
    "    def __init__(self,type_file,e_class):\n",
    "        \n",
    "        self.type_file=type_file\n",
    "        self.e_class=e_class\n",
    "        Graph_Data.e_class=e_class\n",
    "        Graph_Data.type_file=type_file\n",
    "        \n",
    "        if (self.type_file=='sql'):\n",
    "            get_data(self.type_file)\n",
    "            return None\n",
    "        elif (self.type_file=='csv'):\n",
    "            filename=input('Enter name of csv file: ')\n",
    "            self.filename=f'{filename}.csv'\n",
    "            try:\n",
    "                self.num_attributes=int(input('num_attributes:'))\n",
    "            except ValueError:\n",
    "                self.num_attributes=0\n",
    "        \n",
    "            self.headers=['SOURCE', 'TARGET']\n",
    "            \n",
    "        \n",
    "        \n",
    "\n",
    "    def set_attributes(self):\n",
    "        \"\"\"Request attribute titles (names) and creates the attibute title list\"\"\"\n",
    "        \n",
    "        attribute_list=[]\n",
    "        for i in range(self.num_attributes):\n",
    "            attribute=input(f'Attribute{i}:')\n",
    "            attribute_list.append(attribute)\n",
    "        print(attribute_list)\n",
    "        self.headers.extend(attribute_list)\n",
    "    \n",
    "    def create_file(self):\n",
    "        \"\"\"Initially create the file and place file headers\"\"\"\n",
    "        \n",
    "        if (self.num_attributes>0):\n",
    "            self.set_attributes()\n",
    "        \n",
    "        with open(self.filename, mode='w+',newline='') as test_file:\n",
    "            test_writer = csv.writer(test_file,dialect='excel', delimiter=',', quotechar='\"', quoting=csv.QUOTE_MINIMAL)\n",
    "            test_writer.writerow(self.headers)\n",
    "        \n",
    "        self.num_attributes=0    \n",
    "        \n",
    "    def manual_data_entry(self,data_type='csv'):\n",
    "        \"\"\"Line by line entry of Source--Target--Attribute data in a csv file \"\"\"\n",
    "        \n",
    "        # Read the first (header)row to get the column count from len(headers)\n",
    "        with open(self.filename, newline='') as f:\n",
    "            reader = csv.reader(f)\n",
    "            self.headers=list(reader)[0]\n",
    "         \n",
    "            print(f'before extend: {self.headers}')\n",
    "            \n",
    "        if (self.num_attributes>0):\n",
    "            self.set_attributes()\n",
    "            print(f'after extend: {self.headers}')\n",
    "            \n",
    "            with open(self.filename, 'r+') as csvfile:\n",
    "                fieldnames = self.headers\n",
    "                writer = csv.DictWriter(csvfile, fieldnames=fieldnames)\n",
    "                writer.writeheader()\n",
    "                csvfile.close()\n",
    "    \n",
    "            self.num_attributes=0  \n",
    "        \n",
    "        row_list=[]\n",
    "        for i in range(len(self.headers)):\n",
    "            k=input(f'{self.headers[i]}:')  # 9-21-2019:temporary (optional) interface. Replace with GUI interface.\n",
    "            row_list.append(k)\n",
    "        with open(self.filename, mode='a',newline='') as test_file:\n",
    "            test_writer = csv.writer(test_file,dialect='excel', delimiter=',', quotechar='\"', quoting=csv.QUOTE_MINIMAL)\n",
    "            test_writer.writerow(row_list)\n",
    "    \n",
    "        self.data_display()\n",
    "   \n",
    "    @classmethod\n",
    "    def sql_manual_data_entry(cls,row_list,data_type='sql'):\n",
    "        \"\"\"Line by line entry of Source--Target--Attribute data in a SQL database table\"\"\"\n",
    "        \n",
    "        print(Graph_Data.e_class)\n",
    "#         row_list.append(Graph_Data.e_class)\n",
    "        \n",
    "        columns=tuple(Graph_Data.headers)\n",
    "        values=tuple(row_list)\n",
    "        the_sql_command=f'INSERT INTO knowledge_1 {columns} VALUES {values}'\n",
    "        \n",
    "#         sqlite_server='J:/CTDC_Systems/HCTC_EMR_CSP_database/emr_database.db'\n",
    "        \n",
    "        try:\n",
    "            conn=sqlite3.connect(sqlite_server)\n",
    "            cur=conn.cursor()\n",
    "        except:\n",
    "            print('UNABLE TO ACCESS DATABASE. TRY AGAIN.')\n",
    "         \n",
    "        print(the_sql_command)\n",
    "        cur.execute(the_sql_command)\n",
    "        conn.commit()\n",
    "        \n",
    "        get_data(Graph_Data.type_file)\n",
    "        \n",
    "        \n",
    "    def revise_data_entry(self):\n",
    "        \"\"\"Used to revise, update or correct previous entries\"\"\"\n",
    "        pass\n",
    "    \n",
    "    def data_display(self,data_type):\n",
    "        \"\"\"Display the data following each entry\"\"\"\n",
    "        path=self.filename\n",
    "        df1=pd.read_csv(path)\n",
    "        print(tabulate(df1, headers='keys', tablefmt='psql')) # 9-21-2019:temporary (optional) display. Replace with GUI display\n",
    "        display(HTML(df1.to_html())) # 9-21-2019:temporary (optional) display. Replace with GUI display\n",
    "    \n",
    "    @staticmethod\n",
    "    def get_graph_data_plot():\n",
    "        \"\"\"Call functions to get the Graphviz display of the data\"\"\"\n",
    "        q=Graph_Data.df.query(f'CLASSIFICATION==\"{The_Frame.class_var}\"',inplace=False)\n",
    "        print(f'the class is:{The_Frame.class_var}')\n",
    "#         q=Graph_Data.df\n",
    "        print(f'type:{type(q)}')\n",
    "        display(HTML(q.to_html()))\n",
    "        create_edge_list(q)\n",
    "#         create_edge_list(Graph_Data.df)\n",
    "    \n",
    "    \n",
    "    def external_data_entry(self):\n",
    "        \"\"\"Provide data from external file i.e, csv, dataframe, excel,etc.\"\"\"\n",
    "        pass\n",
    "        \n",
    "        \n",
    "        \n"
   ]
  },
  {
   "cell_type": "code",
   "execution_count": 4,
   "metadata": {
    "ExecuteTime": {
     "end_time": "2020-08-04T12:45:33.351461Z",
     "start_time": "2020-08-04T12:45:33.342458Z"
    }
   },
   "outputs": [],
   "source": [
    "class Make_Graph():\n",
    "    \"\"\"create an instance of a networkx graph for display and analysis\"\"\"\n",
    "    pass"
   ]
  },
  {
   "cell_type": "markdown",
   "metadata": {},
   "source": [
    "## the interface class"
   ]
  },
  {
   "cell_type": "code",
   "execution_count": 5,
   "metadata": {
    "ExecuteTime": {
     "end_time": "2020-08-04T12:45:33.362404Z",
     "start_time": "2020-08-04T12:45:33.352432Z"
    }
   },
   "outputs": [],
   "source": [
    "class My_Window(Tk):\n",
    "    \n",
    "    now=dt.date.today().strftime('%B %d, %Y')\n",
    "    time_of_day=dt.datetime.today().strftime('%I:%M:%S %p')\n",
    "\n",
    "    def __init__(self,parent,*args,**kargs):\n",
    "        Tk.__init__(self,parent,*args,**kargs)\n",
    "        self.parent=parent\n",
    "        self.initialize()\n",
    "        \n",
    "        self.banner=Label(self,text=f'KNOWLEDGE CAPTURE',fg='white',bg='blue',font='Ariel 30 bold')\n",
    "        self.banner.grid(row=0,column=0)\n",
    "        self.date_banner=Label(self,text=f'{My_Window.now}',fg='white',bg='blue',font='Ariel 20 bold')\n",
    "        self.date_banner.grid(row=1,column=0)\n",
    "        \n",
    "        self.menubar=Menu(self)\n",
    "        self.menubar.add_command(label=\"Exit\",font='ariel',command=self.bye_bye)\n",
    "        self.config(menu=self.menubar)\n",
    "        \n",
    "    def bye_bye(self):\n",
    "        \"\"\"Close the UI Window on menu Exit\"\"\"\n",
    "        self.destroy()\n",
    "        \n",
    "    def initialize(self):\n",
    "        self.title('KNOWLEDGE CAPTURE')\n",
    "        self['borderwidth']=4\n",
    "        self['bg']='blue'"
   ]
  },
  {
   "cell_type": "code",
   "execution_count": 6,
   "metadata": {
    "ExecuteTime": {
     "end_time": "2020-08-04T12:45:33.408307Z",
     "start_time": "2020-08-04T12:45:33.363403Z"
    }
   },
   "outputs": [],
   "source": [
    "class The_Frame(Frame):\n",
    "    \n",
    "    drop_down_list=None\n",
    "    class_var='TBD'\n",
    "    classification_list=[]\n",
    "    \n",
    "    the_sql_command='SELECT * FROM knowledge_1;'\n",
    "    \n",
    "    \n",
    "    def __init__ (self,the_window,*args,**kwargs):\n",
    "        \"\"\"Instance of the frame\"\"\"\n",
    "        Frame.__init__(self,the_window,*args,**kwargs)\n",
    "    \n",
    "        self.frame=Frame(self)\n",
    "        self.the_window=the_window\n",
    "        self['background']='purple'\n",
    "        self['relief']='raised'\n",
    "        self['borderwidth']=5\n",
    "        self.grid(row=1,column=0)\n",
    "        banner_text='Nodes and Attributes'\n",
    "        self.frame_banner=Label(self,text=banner_text,fg='yellow',bg='red',font='Ariel 15 bold')\n",
    "        self.frame_banner.grid(row=0,column=0,columnspan=5,pady=15)\n",
    "        \n",
    "        self.combo_drop_downs()\n",
    "        self.submit_button()\n",
    "        self.display_graph_button()\n",
    "        self.display_table()\n",
    "    \n",
    "    @staticmethod\n",
    "    def get_drop_down_lists():\n",
    "        \"\"\"Obtain the distinct drop down list for SOURCE, TARGET,DESCR and CLASSIFICATION from the database.\"\"\"\n",
    "        \n",
    "        conn=sqlite3.connect(sqlite_server)\n",
    "        cur=conn.cursor()\n",
    "        \n",
    "        headers=['SOURCE','TARGET','DESCR','CLASSIFICATION']\n",
    "        d1=d2=d3=d4=None\n",
    "        The_Frame.drop_down_list=[d1,d2,d3,d4]\n",
    "        for i,k in enumerate (headers):\n",
    "            if (The_Frame.class_var=='TBD'):\n",
    "                the_sql_command=f'select DISTINCT {k} from knowledge_1 ORDER by {k} ASC;'\n",
    "            else:\n",
    "                the_sql_command=f'select DISTINCT {k} from knowledge_1 WHERE CLASSIFICATION=\"{The_Frame.class_var}\"  ORDER by {k} ASC;'\n",
    "            print(the_sql_command)\n",
    "            df=pd.read_sql_query(sql=the_sql_command,con=conn, index_col=None)\n",
    "            The_Frame.drop_down_list[i]=list(df[k])\n",
    "            if (k=='CLASSIFICATION' and bool(The_Frame.classification_list)==False):\n",
    "                The_Frame.classification_list=list(df[k])\n",
    "        return The_Frame.drop_down_list\n",
    "\n",
    "    def combo_drop_downs(self):\n",
    "        \"\"\"Create combo boxes\"\"\"\n",
    "        The_Frame.drop_down_list=The_Frame.get_drop_down_lists()\n",
    "        \n",
    "        self.combo_win=Frame(master=self)\n",
    "        self.source_label=Label(self.combo_win,text=f'SOURCE',fg='white',bg='red',font='Ariel 10 bold')\n",
    "        self.source_label.pack()\n",
    "        \n",
    "        self.source_var=StringVar()\n",
    "        self.source_combo=ttk.Combobox(self.combo_win,font='Ariel 12 bold',width=30,\n",
    "                                    background='red',textvariable=self.source_var,\n",
    "                                       values=The_Frame.drop_down_list[0]+The_Frame.drop_down_list[1],\n",
    "                                       postcommand=self.updateComboDropDowns)\n",
    "        self.source_combo.pack()\n",
    "        \n",
    "        self.target_label=Label(self.combo_win,text=f'TARGET',fg='white',bg='red',font='Ariel 10 bold')\n",
    "        self.target_label.pack()\n",
    "        self.target_var=StringVar()\n",
    "        self.target_combo=ttk.Combobox(self.combo_win,font='Ariel 12 bold',width=30,\n",
    "                                    background='blue',textvariable=self.target_var,values=The_Frame.drop_down_list[1],\n",
    "                                       postcommand=self.updateComboDropDowns)\n",
    "        self.target_combo.pack()\n",
    "        \n",
    "        self.descr_label=Label(self.combo_win,text=f'DESCR',fg='white',bg='red',font='Ariel 10 bold')\n",
    "        self.descr_label.pack()\n",
    "        self.descr_var=StringVar()\n",
    "        self.descr_combo=ttk.Combobox(self.combo_win,font='Ariel 12 bold',width=30,\n",
    "                                    background='red',textvariable=self.descr_var,values=The_Frame.drop_down_list[2])\n",
    "        self.descr_combo.pack()\n",
    "        \n",
    "        \n",
    "        self.class_label=Label(self.combo_win,text=f'CLASS',fg='white',bg='red',font='Ariel 10 bold')\n",
    "        self.class_label.pack()\n",
    "        self.class_var=StringVar()\n",
    "        self.class_combo=ttk.Combobox(self.combo_win,font='Ariel 12 bold',width=30,\n",
    "                                    background='red',textvariable=self.class_var,values=The_Frame.drop_down_list[3])\n",
    "        \n",
    "        self.class_combo.pack()\n",
    "        self.class_combo.bind(\"<<ComboboxSelected>>\", self.refresh_per_class)\n",
    "        \n",
    "        self.combo_win.grid(row=1,column=0)\n",
    "        \n",
    "    def updateComboDropDowns(self):\n",
    "        The_Frame.drop_down_list=The_Frame.get_drop_down_lists()\n",
    "        self.source_combo['values']=self.bfs_node_combo['values']=list(set(The_Frame.drop_down_list[0]+The_Frame.drop_down_list[1]))\n",
    "        self.target_combo['values']=list(set(The_Frame.drop_down_list[0]+The_Frame.drop_down_list[1]))\n",
    "        self.descr_combo['values']=The_Frame.drop_down_list[2]\n",
    "        self.class_combo['values']=The_Frame.classification_list\n",
    "        self.bfs_node_var.set('')\n",
    "        \n",
    "    def refresh_per_class(self,event):\n",
    "        The_Frame.the_sql_command=f'SELECT * FROM knowledge_1 WHERE CLASSIFICATION=\"{self.class_var.get()}\";'\n",
    "        print(The_Frame.the_sql_command)\n",
    "        self.class_node_var.set(self.class_var.get())\n",
    "        get_data()\n",
    "        \n",
    "        The_Frame.class_var=self.class_var.get()\n",
    "        self.refresh_display()\n",
    "        self.updateComboDropDowns()\n",
    "        \n",
    "        \n",
    "    \n",
    "    def refresh_display(self):\n",
    "        \"\"\"Clear and refresh comboboxes and treeview following an update\"\"\"\n",
    "        self.my_tree.destroy()\n",
    "        self.display_table()\n",
    "        \n",
    "        \n",
    "        \n",
    "        \n",
    "    \n",
    "    def sta_values(self):\n",
    "        \"\"\"get the source-target-attribute values from the comboboxes\"\"\"\n",
    "        sta_list=['s','t','a','b']\n",
    "        sta_list[0]=self.source_var.get()\n",
    "        sta_list[1]=self.target_var.get()\n",
    "        sta_list[2]=self.descr_var.get()\n",
    "        sta_list[3]=self.class_var.get()\n",
    "        print(f'stat values:{sta_list}')\n",
    "        \n",
    "        Graph_Data.sql_manual_data_entry(sta_list)\n",
    "        \n",
    "#         Graph_Data.get_drop_down_lists()\n",
    "        The_Frame.class_var=self.class_var.get()\n",
    "        self.updateComboDropDowns()\n",
    "        self.refresh_display()\n",
    "     \n",
    "    def submit_button(self):\n",
    "        \"\"\"Press button to commit upload to knowledge_1 table\"\"\"\n",
    "        self.the_button=Button(master=self,text='Commit',bg='black',fg='white',relief='raised',command=self.sta_values)\n",
    "        self.the_button.grid(row=2,column=0,sticky=W)\n",
    "    \n",
    "    \n",
    "    def display_graph_button(self):\n",
    "        \"\"\"Press button for Graphviz display of the data\"\"\"\n",
    "        \n",
    "        drop_down_list=The_Frame.get_drop_down_lists()\n",
    "        self.graph_button_win=Frame(master=self)\n",
    "        self.bfs_node_label=Label(self.graph_button_win,text=f'BFS Start Node',fg='yellow',bg='red',font='Ariel 10 bold')\n",
    "        self.bfs_node_label.pack()\n",
    "        \n",
    "        self.bfs_node_var=StringVar()\n",
    "        self.bfs_node_combo=ttk.Combobox(self.graph_button_win,font='Ariel 12 bold',width=20,\n",
    "                                    background='red',textvariable=self.bfs_node_var,\n",
    "                                         values=The_Frame.drop_down_list[0])\n",
    "        \n",
    "        self.bfs_node_combo.pack()\n",
    "        \n",
    "        self.class_node_label=Label(self.graph_button_win,text=f'Class Start Node',fg='yellow',bg='red',font='Ariel 10 bold')\n",
    "        self.class_node_label.pack()\n",
    "        \n",
    "        self.class_node_var=StringVar()\n",
    "        self.class_node_combo=ttk.Combobox(self.graph_button_win,font='Ariel 12 bold',width=20,\n",
    "                                    background='red',textvariable=self.class_node_var,\n",
    "                                         values=The_Frame.drop_down_list[3])\n",
    "        \n",
    "        \n",
    "        self.class_node_combo.pack()\n",
    "        \n",
    "        \n",
    "#         self.the_button=Button(master=self.graph_button_win,text='Graph',bg='black',fg='white',relief='raised',command=Graph_Data.get_graph_data_plot)\n",
    "        self.the_button=Button(master=self.graph_button_win,text='Graph',bg='black',fg='white',relief='raised',\n",
    "                               command=self.get_the_class_var)\n",
    "        self.the_button.pack()\n",
    "        \n",
    "        self.graph_button_win.grid(row=1,column=1,padx=20,sticky=None)\n",
    "    \n",
    "    \n",
    "    def get_the_class_var(self):\n",
    "#         The_Frame.class_var=self.class_node_var.get()\n",
    "#         print(f'the var is !!:{self.class_node_var.get()}')\n",
    "        Graph_Data.get_graph_data_plot()\n",
    "    \n",
    "    def display_table(self):\n",
    "        \"\"\"Display knowledge_1 table data\"\"\"\n",
    "        table_display_frame=Frame(master=self)\n",
    "        \n",
    "        head_cols=tuple(Graph_Data.df.columns.tolist())\n",
    "        the_index=Graph_Data.df.index.tolist()\n",
    "        \n",
    "        self.my_tree=ttk.Treeview(table_display_frame, height=10,columns=head_cols)\n",
    "        for col_num,i in enumerate(head_cols,0):\n",
    "            self.my_tree.heading(str(col_num), text=i,anchor='center')\n",
    "        \n",
    "        for j,k in enumerate (the_index,0):\n",
    "            self.my_tree.insert('',str(j),'index'+str(j),text=str(the_index[j]))\n",
    "\n",
    "            for m,n in enumerate(head_cols,0):\n",
    "                self.my_tree.set(item='index'+str(j),column=n,value=Graph_Data.df[n].iloc[j])\n",
    "\n",
    "        self.my_tree.grid(row=0,column=0,sticky=W)\n",
    "        yscrollbar = ttk.Scrollbar(table_display_frame, orient='vertical', command=self.my_tree.yview)\n",
    "        yscrollbar.grid(row=0,column=1,sticky='ns')\n",
    "        \n",
    "        self.my_tree.configure(yscrollcommand = yscrollbar.set, selectmode=\"browse\")\n",
    "        \n",
    "        \n",
    "#         self.table_text_box=Text(master=table_display_frame,borderwidth=2,height=20,width=160,font='Ariel 6 bold')\n",
    "#         the_table=tabulate(Graph_Data.df, headers='keys', tablefmt='github')\n",
    "#         self.table_text_box.insert(INSERT,the_table)\n",
    "#         self.table_text_box.pack()\n",
    "        \n",
    "        table_display_frame.grid(row=4,column=0,pady=20,sticky=None)\n",
    "        \n",
    "    "
   ]
  },
  {
   "cell_type": "code",
   "execution_count": null,
   "metadata": {},
   "outputs": [],
   "source": []
  },
  {
   "cell_type": "code",
   "execution_count": null,
   "metadata": {},
   "outputs": [],
   "source": []
  },
  {
   "cell_type": "markdown",
   "metadata": {},
   "source": [
    "# Functions"
   ]
  },
  {
   "cell_type": "code",
   "execution_count": 7,
   "metadata": {
    "ExecuteTime": {
     "end_time": "2020-08-04T12:45:33.419314Z",
     "start_time": "2020-08-04T12:45:33.410302Z"
    }
   },
   "outputs": [],
   "source": [
    "def get_data(type_file='sql',filename=None):\n",
    "    \"\"\"read the data (csv file) or (sql table) following an update or upon request\"\"\"\n",
    "    \n",
    "    if (type_file=='csv'):\n",
    "        df=pd.read_csv(filename)\n",
    "        display(HTML(df.to_html()))\n",
    "\n",
    "        answer=input('View the graph?')\n",
    "        if (answer=='y'):\n",
    "            create_edge_list(df)\n",
    "    elif (type_file=='sql'):\n",
    "        sqlite_server='knowledge.db'\n",
    "        try:\n",
    "            conn=sqlite3.connect(sqlite_server)\n",
    "            cur=conn.cursor()\n",
    "        except:\n",
    "            print('UNABLE TO ACCESS DATABASE. TRY AGAIN.')\n",
    "        \n",
    "#         the_sql_command='SELECT * FROM knowledge_1;'\n",
    "        the_sql_command=The_Frame.the_sql_command\n",
    "        df=pd.read_sql_query(sql=the_sql_command,con=conn,index_col=None)\n",
    "        print(tabulate(df, headers='keys', tablefmt='psql'))\n",
    "        \n",
    "        display(HTML(df.to_html()))\n",
    "    \n",
    "    Graph_Data.df=df\n",
    "\n",
    "    "
   ]
  },
  {
   "cell_type": "code",
   "execution_count": 8,
   "metadata": {
    "ExecuteTime": {
     "end_time": "2020-08-04T12:45:33.431277Z",
     "start_time": "2020-08-04T12:45:33.421272Z"
    }
   },
   "outputs": [],
   "source": [
    "def create_edge_list(df):\n",
    "    \"\"\"Create the list of edges from the dataset\"\"\"\n",
    "    e = zip(df['SOURCE'],df['TARGET'])\n",
    "    e=list(e)\n",
    "    \n",
    "    print(f'this is e\\n:{e}')\n",
    "    \n",
    "    header_list=df.columns.tolist()\n",
    "    print(header_list)\n",
    "    \n",
    "    create_graph(e,header_list,df)"
   ]
  },
  {
   "cell_type": "code",
   "execution_count": 9,
   "metadata": {
    "ExecuteTime": {
     "end_time": "2020-08-04T12:45:33.441252Z",
     "start_time": "2020-08-04T12:45:33.434262Z"
    }
   },
   "outputs": [],
   "source": [
    "def create_graph(e,header_list,df):\n",
    "    \"\"\"Create an instance of a networkx graph and map the edges to the attributes\"\"\"\n",
    "    global G\n",
    "    G = nx.DiGraph()\n",
    "    G.add_edges_from(e) # creating graph from the edge list\n",
    "    \n",
    "    # map edges to attributes\n",
    "    for k in header_list[2:]: \n",
    "        for i,m in enumerate(e):\n",
    "            G[e[i][0]][e[i][1]][k]=df[k].iloc[i]\n",
    "            \n",
    "    BFS()"
   ]
  },
  {
   "cell_type": "code",
   "execution_count": 10,
   "metadata": {
    "ExecuteTime": {
     "end_time": "2020-08-04T12:45:33.452224Z",
     "start_time": "2020-08-04T12:45:33.442215Z"
    }
   },
   "outputs": [],
   "source": [
    "def BFS():\n",
    "    \"\"\"Conduct Breath First Search (BFS) for the selected node with selected attributes as edge labels\"\"\"\n",
    "\n",
    "#     source_node=input('Enter source node: ')\n",
    "    source_node=the_gui.bfs_node_var.get()\n",
    "    if (source_node==\"\"):\n",
    "        source_node=list(G.edges)[0][0]\n",
    "    \n",
    "    k='DESCR'\n",
    "    \n",
    "    reverse=False  # False\n",
    "    \n",
    "    bfs_path=list(nx.bfs_tree(G, source=source_node, reverse=reverse, depth_limit=None))\n",
    "    print(f'The BFS Path: {bfs_path}')\n",
    "\n",
    "    H=G.subgraph(bfs_path)\n",
    "    #     list(H)\n",
    "    edge_label = nx.get_edge_attributes(H, k)\n",
    "    \n",
    "    print(f'Edge Label Values: {edge_label.values()}')\n",
    "\n",
    "    x=edge_label.keys()\n",
    "    print(f'Edge Label Keys: {x}')\n",
    "    \n",
    "    print(f'bfs path[0]: {bfs_path[0]}')\n",
    "#     return edge_label,bfs_path[0]\n",
    "\n",
    "    \n",
    "        \n",
    "    make_graph(edge_label,source_node)\n",
    "    "
   ]
  },
  {
   "cell_type": "code",
   "execution_count": 11,
   "metadata": {
    "ExecuteTime": {
     "end_time": "2020-08-04T12:45:33.465191Z",
     "start_time": "2020-08-04T12:45:33.454185Z"
    }
   },
   "outputs": [],
   "source": [
    "def make_graph(edge_labels,selected_node,*args):\n",
    "    \"\"\"Create a Grapviz plot of the data\"\"\"\n",
    "    \n",
    "    print(edge_labels)\n",
    "\n",
    "    graph_set={'rankdir':'TB',\n",
    "              'landscape':'False',\n",
    "              'size':'20,16',\n",
    "              'splines':'polyline'}\n",
    "\n",
    "    node_set={'color':'blue',\n",
    "             'shape':'ellipse',\n",
    "             'style':'filled',\n",
    "              'fillcolor':'None'}\n",
    "\n",
    "    edge_set={'headlabel':None,\n",
    "             'taillabel':None,\n",
    "             'arrowsize':'1',\n",
    "             'label':None,\n",
    "             'labelfontsize':'6',\n",
    "             'labeldistance':'2.0',\n",
    "             'labelangle':'45',\n",
    "             'headport':'c',\n",
    "             'fontsize':'8',\n",
    "             'fontcolor':'red'}\n",
    "    \n",
    "    \n",
    "    the_format='pdf' #'png'\n",
    "    \n",
    "    g = Digraph(name='learn_1', comment='What goes here', filename=None, directory=None, format=the_format,\n",
    "                engine=None, encoding='utf-8', graph_attr=graph_set, \n",
    "                node_attr=node_set, edge_attr=edge_set, body=None, strict=False)\n",
    "    \n",
    "    \n",
    "    # Extracting the edge values for labeling the graph edges\n",
    "    z=list(edge_labels)\n",
    "    for i in range(len(z)):\n",
    "        g.edge(z[i][0],z[i][1],label=str(edge_labels.get((z[i][0],z[i][1]))))\n",
    "    \n",
    "\n",
    "    g.node(z[0][0], shape='box') #for a BFS, z[0][0] is the first (start) node of the flow\n",
    "#     g.node(z[i][1], shape='Msquare')  #for a BFS, z[len of the edge list][1] is the last (stop) node of the flow\n",
    "    \n",
    "    now=dt.datetime.now()\n",
    "    tag=now.strftime('%Y%m%d%H%M%S')\n",
    "    \n",
    "    the_path=classification_folder(The_Frame.class_var)\n",
    "    \n",
    "    tree_name=f'{selected_node}-{tag}'\n",
    "#     the_path=\"knowledge_data/\"\n",
    "    print(the_path+tree_name)\n",
    "#     g.view(the_path+tree_name)\n",
    "    g.render(the_path+tree_name,view=True)"
   ]
  },
  {
   "cell_type": "code",
   "execution_count": 12,
   "metadata": {
    "ExecuteTime": {
     "end_time": "2020-08-04T12:45:33.477150Z",
     "start_time": "2020-08-04T12:45:33.466150Z"
    }
   },
   "outputs": [],
   "source": [
    "def classification_folder(classification_var):\n",
    "    \n",
    "    subFolder=classification_var\n",
    "\n",
    "    dir_chk=os.path.isdir(f'knowledge_data/{subFolder}')\n",
    "    print(dir_chk)\n",
    "\n",
    "\n",
    "    print(f'knowledge_data/{subFolder}')\n",
    "\n",
    "\n",
    "    if (dir_chk==False):\n",
    "        os.mkdir(f'knowledge_data/{subFolder}/')\n",
    "#         path=f'knowledge_data/{subFolder}/'\n",
    "        return path\n",
    "    else:\n",
    "        print(f'{subFolder} already exist')\n",
    "    \n",
    "    path=f'knowledge_data/{subFolder}/'\n",
    "    \n",
    "    return path\n",
    "        "
   ]
  },
  {
   "cell_type": "markdown",
   "metadata": {},
   "source": [
    "# Main"
   ]
  },
  {
   "cell_type": "code",
   "execution_count": 13,
   "metadata": {
    "ExecuteTime": {
     "end_time": "2020-08-04T12:45:34.045644Z",
     "start_time": "2020-08-04T12:45:33.478117Z"
    }
   },
   "outputs": [],
   "source": [
    "root=My_Window(None)\n"
   ]
  },
  {
   "cell_type": "code",
   "execution_count": 14,
   "metadata": {
    "ExecuteTime": {
     "end_time": "2020-08-04T12:45:34.051438Z",
     "start_time": "2020-08-04T12:45:34.047189Z"
    }
   },
   "outputs": [],
   "source": [
    "file_type='sql'\n",
    "e_class='Personnel'"
   ]
  },
  {
   "cell_type": "code",
   "execution_count": 15,
   "metadata": {
    "ExecuteTime": {
     "end_time": "2020-08-04T12:45:34.475886Z",
     "start_time": "2020-08-04T12:45:34.052436Z"
    },
    "scrolled": false
   },
   "outputs": [
    {
     "ename": "DatabaseError",
     "evalue": "Execution failed on sql 'SELECT * FROM knowledge_1;': no such table: knowledge_1",
     "output_type": "error",
     "traceback": [
      "\u001b[1;31m---------------------------------------------------------------------------\u001b[0m",
      "\u001b[1;31mOperationalError\u001b[0m                          Traceback (most recent call last)",
      "\u001b[1;32mc:\\users\\jdowd\\appdata\\local\\programs\\python\\python37\\lib\\site-packages\\pandas\\io\\sql.py\u001b[0m in \u001b[0;36mexecute\u001b[1;34m(self, *args, **kwargs)\u001b[0m\n\u001b[0;32m   1594\u001b[0m             \u001b[1;32melse\u001b[0m\u001b[1;33m:\u001b[0m\u001b[1;33m\u001b[0m\u001b[1;33m\u001b[0m\u001b[0m\n\u001b[1;32m-> 1595\u001b[1;33m                 \u001b[0mcur\u001b[0m\u001b[1;33m.\u001b[0m\u001b[0mexecute\u001b[0m\u001b[1;33m(\u001b[0m\u001b[1;33m*\u001b[0m\u001b[0margs\u001b[0m\u001b[1;33m)\u001b[0m\u001b[1;33m\u001b[0m\u001b[1;33m\u001b[0m\u001b[0m\n\u001b[0m\u001b[0;32m   1596\u001b[0m             \u001b[1;32mreturn\u001b[0m \u001b[0mcur\u001b[0m\u001b[1;33m\u001b[0m\u001b[1;33m\u001b[0m\u001b[0m\n",
      "\u001b[1;31mOperationalError\u001b[0m: no such table: knowledge_1",
      "\nDuring handling of the above exception, another exception occurred:\n",
      "\u001b[1;31mDatabaseError\u001b[0m                             Traceback (most recent call last)",
      "\u001b[1;32m<ipython-input-15-a44e3d06d69a>\u001b[0m in \u001b[0;36m<module>\u001b[1;34m\u001b[0m\n\u001b[1;32m----> 1\u001b[1;33m \u001b[0mj\u001b[0m\u001b[1;33m=\u001b[0m\u001b[0mGraph_Data\u001b[0m\u001b[1;33m(\u001b[0m\u001b[0mfile_type\u001b[0m\u001b[1;33m,\u001b[0m\u001b[0me_class\u001b[0m\u001b[1;33m)\u001b[0m\u001b[1;33m\u001b[0m\u001b[1;33m\u001b[0m\u001b[0m\n\u001b[0m",
      "\u001b[1;32m<ipython-input-3-d094f0aea76b>\u001b[0m in \u001b[0;36m__init__\u001b[1;34m(self, type_file, e_class)\u001b[0m\n\u001b[0;32m     15\u001b[0m \u001b[1;33m\u001b[0m\u001b[0m\n\u001b[0;32m     16\u001b[0m        \u001b[1;32mif\u001b[0m \u001b[1;33m(\u001b[0m\u001b[0mself\u001b[0m\u001b[1;33m.\u001b[0m\u001b[0mtype_file\u001b[0m\u001b[1;33m==\u001b[0m\u001b[1;34m'sql'\u001b[0m\u001b[1;33m)\u001b[0m\u001b[1;33m:\u001b[0m\u001b[1;33m\u001b[0m\u001b[1;33m\u001b[0m\u001b[0m\n\u001b[1;32m---> 17\u001b[1;33m            \u001b[0mget_data\u001b[0m\u001b[1;33m(\u001b[0m\u001b[0mself\u001b[0m\u001b[1;33m.\u001b[0m\u001b[0mtype_file\u001b[0m\u001b[1;33m)\u001b[0m\u001b[1;33m\u001b[0m\u001b[1;33m\u001b[0m\u001b[0m\n\u001b[0m\u001b[0;32m     18\u001b[0m            \u001b[1;32mreturn\u001b[0m \u001b[1;32mNone\u001b[0m\u001b[1;33m\u001b[0m\u001b[1;33m\u001b[0m\u001b[0m\n\u001b[0;32m     19\u001b[0m        \u001b[1;32melif\u001b[0m \u001b[1;33m(\u001b[0m\u001b[0mself\u001b[0m\u001b[1;33m.\u001b[0m\u001b[0mtype_file\u001b[0m\u001b[1;33m==\u001b[0m\u001b[1;34m'csv'\u001b[0m\u001b[1;33m)\u001b[0m\u001b[1;33m:\u001b[0m\u001b[1;33m\u001b[0m\u001b[1;33m\u001b[0m\u001b[0m\n",
      "\u001b[1;32m<ipython-input-7-846d1215a79a>\u001b[0m in \u001b[0;36mget_data\u001b[1;34m(type_file, filename)\u001b[0m\n\u001b[0;32m     19\u001b[0m \u001b[1;31m#         the_sql_command='SELECT * FROM knowledge_1;'\u001b[0m\u001b[1;33m\u001b[0m\u001b[1;33m\u001b[0m\u001b[1;33m\u001b[0m\u001b[0m\n\u001b[0;32m     20\u001b[0m         \u001b[0mthe_sql_command\u001b[0m\u001b[1;33m=\u001b[0m\u001b[0mThe_Frame\u001b[0m\u001b[1;33m.\u001b[0m\u001b[0mthe_sql_command\u001b[0m\u001b[1;33m\u001b[0m\u001b[1;33m\u001b[0m\u001b[0m\n\u001b[1;32m---> 21\u001b[1;33m         \u001b[0mdf\u001b[0m\u001b[1;33m=\u001b[0m\u001b[0mpd\u001b[0m\u001b[1;33m.\u001b[0m\u001b[0mread_sql_query\u001b[0m\u001b[1;33m(\u001b[0m\u001b[0msql\u001b[0m\u001b[1;33m=\u001b[0m\u001b[0mthe_sql_command\u001b[0m\u001b[1;33m,\u001b[0m\u001b[0mcon\u001b[0m\u001b[1;33m=\u001b[0m\u001b[0mconn\u001b[0m\u001b[1;33m,\u001b[0m\u001b[0mindex_col\u001b[0m\u001b[1;33m=\u001b[0m\u001b[1;32mNone\u001b[0m\u001b[1;33m)\u001b[0m\u001b[1;33m\u001b[0m\u001b[1;33m\u001b[0m\u001b[0m\n\u001b[0m\u001b[0;32m     22\u001b[0m         \u001b[0mprint\u001b[0m\u001b[1;33m(\u001b[0m\u001b[0mtabulate\u001b[0m\u001b[1;33m(\u001b[0m\u001b[0mdf\u001b[0m\u001b[1;33m,\u001b[0m \u001b[0mheaders\u001b[0m\u001b[1;33m=\u001b[0m\u001b[1;34m'keys'\u001b[0m\u001b[1;33m,\u001b[0m \u001b[0mtablefmt\u001b[0m\u001b[1;33m=\u001b[0m\u001b[1;34m'psql'\u001b[0m\u001b[1;33m)\u001b[0m\u001b[1;33m)\u001b[0m\u001b[1;33m\u001b[0m\u001b[1;33m\u001b[0m\u001b[0m\n\u001b[0;32m     23\u001b[0m \u001b[1;33m\u001b[0m\u001b[0m\n",
      "\u001b[1;32mc:\\users\\jdowd\\appdata\\local\\programs\\python\\python37\\lib\\site-packages\\pandas\\io\\sql.py\u001b[0m in \u001b[0;36mread_sql_query\u001b[1;34m(sql, con, index_col, coerce_float, params, parse_dates, chunksize)\u001b[0m\n\u001b[0;32m    330\u001b[0m         \u001b[0mcoerce_float\u001b[0m\u001b[1;33m=\u001b[0m\u001b[0mcoerce_float\u001b[0m\u001b[1;33m,\u001b[0m\u001b[1;33m\u001b[0m\u001b[1;33m\u001b[0m\u001b[0m\n\u001b[0;32m    331\u001b[0m         \u001b[0mparse_dates\u001b[0m\u001b[1;33m=\u001b[0m\u001b[0mparse_dates\u001b[0m\u001b[1;33m,\u001b[0m\u001b[1;33m\u001b[0m\u001b[1;33m\u001b[0m\u001b[0m\n\u001b[1;32m--> 332\u001b[1;33m         \u001b[0mchunksize\u001b[0m\u001b[1;33m=\u001b[0m\u001b[0mchunksize\u001b[0m\u001b[1;33m,\u001b[0m\u001b[1;33m\u001b[0m\u001b[1;33m\u001b[0m\u001b[0m\n\u001b[0m\u001b[0;32m    333\u001b[0m     )\n\u001b[0;32m    334\u001b[0m \u001b[1;33m\u001b[0m\u001b[0m\n",
      "\u001b[1;32mc:\\users\\jdowd\\appdata\\local\\programs\\python\\python37\\lib\\site-packages\\pandas\\io\\sql.py\u001b[0m in \u001b[0;36mread_query\u001b[1;34m(self, sql, index_col, coerce_float, params, parse_dates, chunksize)\u001b[0m\n\u001b[0;32m   1643\u001b[0m \u001b[1;33m\u001b[0m\u001b[0m\n\u001b[0;32m   1644\u001b[0m         \u001b[0margs\u001b[0m \u001b[1;33m=\u001b[0m \u001b[0m_convert_params\u001b[0m\u001b[1;33m(\u001b[0m\u001b[0msql\u001b[0m\u001b[1;33m,\u001b[0m \u001b[0mparams\u001b[0m\u001b[1;33m)\u001b[0m\u001b[1;33m\u001b[0m\u001b[1;33m\u001b[0m\u001b[0m\n\u001b[1;32m-> 1645\u001b[1;33m         \u001b[0mcursor\u001b[0m \u001b[1;33m=\u001b[0m \u001b[0mself\u001b[0m\u001b[1;33m.\u001b[0m\u001b[0mexecute\u001b[0m\u001b[1;33m(\u001b[0m\u001b[1;33m*\u001b[0m\u001b[0margs\u001b[0m\u001b[1;33m)\u001b[0m\u001b[1;33m\u001b[0m\u001b[1;33m\u001b[0m\u001b[0m\n\u001b[0m\u001b[0;32m   1646\u001b[0m         \u001b[0mcolumns\u001b[0m \u001b[1;33m=\u001b[0m \u001b[1;33m[\u001b[0m\u001b[0mcol_desc\u001b[0m\u001b[1;33m[\u001b[0m\u001b[1;36m0\u001b[0m\u001b[1;33m]\u001b[0m \u001b[1;32mfor\u001b[0m \u001b[0mcol_desc\u001b[0m \u001b[1;32min\u001b[0m \u001b[0mcursor\u001b[0m\u001b[1;33m.\u001b[0m\u001b[0mdescription\u001b[0m\u001b[1;33m]\u001b[0m\u001b[1;33m\u001b[0m\u001b[1;33m\u001b[0m\u001b[0m\n\u001b[0;32m   1647\u001b[0m \u001b[1;33m\u001b[0m\u001b[0m\n",
      "\u001b[1;32mc:\\users\\jdowd\\appdata\\local\\programs\\python\\python37\\lib\\site-packages\\pandas\\io\\sql.py\u001b[0m in \u001b[0;36mexecute\u001b[1;34m(self, *args, **kwargs)\u001b[0m\n\u001b[0;32m   1608\u001b[0m                 \u001b[1;34m\"Execution failed on sql '{sql}': {exc}\"\u001b[0m\u001b[1;33m.\u001b[0m\u001b[0mformat\u001b[0m\u001b[1;33m(\u001b[0m\u001b[0msql\u001b[0m\u001b[1;33m=\u001b[0m\u001b[0margs\u001b[0m\u001b[1;33m[\u001b[0m\u001b[1;36m0\u001b[0m\u001b[1;33m]\u001b[0m\u001b[1;33m,\u001b[0m \u001b[0mexc\u001b[0m\u001b[1;33m=\u001b[0m\u001b[0mexc\u001b[0m\u001b[1;33m)\u001b[0m\u001b[1;33m\u001b[0m\u001b[1;33m\u001b[0m\u001b[0m\n\u001b[0;32m   1609\u001b[0m             )\n\u001b[1;32m-> 1610\u001b[1;33m             \u001b[0mraise_with_traceback\u001b[0m\u001b[1;33m(\u001b[0m\u001b[0mex\u001b[0m\u001b[1;33m)\u001b[0m\u001b[1;33m\u001b[0m\u001b[1;33m\u001b[0m\u001b[0m\n\u001b[0m\u001b[0;32m   1611\u001b[0m \u001b[1;33m\u001b[0m\u001b[0m\n\u001b[0;32m   1612\u001b[0m     \u001b[1;33m@\u001b[0m\u001b[0mstaticmethod\u001b[0m\u001b[1;33m\u001b[0m\u001b[1;33m\u001b[0m\u001b[0m\n",
      "\u001b[1;32mc:\\users\\jdowd\\appdata\\local\\programs\\python\\python37\\lib\\site-packages\\pandas\\compat\\__init__.py\u001b[0m in \u001b[0;36mraise_with_traceback\u001b[1;34m(exc, traceback)\u001b[0m\n\u001b[0;32m     45\u001b[0m     \u001b[1;32mif\u001b[0m \u001b[0mtraceback\u001b[0m \u001b[1;33m==\u001b[0m \u001b[0mEllipsis\u001b[0m\u001b[1;33m:\u001b[0m\u001b[1;33m\u001b[0m\u001b[1;33m\u001b[0m\u001b[0m\n\u001b[0;32m     46\u001b[0m         \u001b[0m_\u001b[0m\u001b[1;33m,\u001b[0m \u001b[0m_\u001b[0m\u001b[1;33m,\u001b[0m \u001b[0mtraceback\u001b[0m \u001b[1;33m=\u001b[0m \u001b[0msys\u001b[0m\u001b[1;33m.\u001b[0m\u001b[0mexc_info\u001b[0m\u001b[1;33m(\u001b[0m\u001b[1;33m)\u001b[0m\u001b[1;33m\u001b[0m\u001b[1;33m\u001b[0m\u001b[0m\n\u001b[1;32m---> 47\u001b[1;33m     \u001b[1;32mraise\u001b[0m \u001b[0mexc\u001b[0m\u001b[1;33m.\u001b[0m\u001b[0mwith_traceback\u001b[0m\u001b[1;33m(\u001b[0m\u001b[0mtraceback\u001b[0m\u001b[1;33m)\u001b[0m\u001b[1;33m\u001b[0m\u001b[1;33m\u001b[0m\u001b[0m\n\u001b[0m\u001b[0;32m     48\u001b[0m \u001b[1;33m\u001b[0m\u001b[0m\n\u001b[0;32m     49\u001b[0m \u001b[1;33m\u001b[0m\u001b[0m\n",
      "\u001b[1;32mc:\\users\\jdowd\\appdata\\local\\programs\\python\\python37\\lib\\site-packages\\pandas\\io\\sql.py\u001b[0m in \u001b[0;36mexecute\u001b[1;34m(self, *args, **kwargs)\u001b[0m\n\u001b[0;32m   1593\u001b[0m                 \u001b[0mcur\u001b[0m\u001b[1;33m.\u001b[0m\u001b[0mexecute\u001b[0m\u001b[1;33m(\u001b[0m\u001b[1;33m*\u001b[0m\u001b[0margs\u001b[0m\u001b[1;33m,\u001b[0m \u001b[1;33m**\u001b[0m\u001b[0mkwargs\u001b[0m\u001b[1;33m)\u001b[0m\u001b[1;33m\u001b[0m\u001b[1;33m\u001b[0m\u001b[0m\n\u001b[0;32m   1594\u001b[0m             \u001b[1;32melse\u001b[0m\u001b[1;33m:\u001b[0m\u001b[1;33m\u001b[0m\u001b[1;33m\u001b[0m\u001b[0m\n\u001b[1;32m-> 1595\u001b[1;33m                 \u001b[0mcur\u001b[0m\u001b[1;33m.\u001b[0m\u001b[0mexecute\u001b[0m\u001b[1;33m(\u001b[0m\u001b[1;33m*\u001b[0m\u001b[0margs\u001b[0m\u001b[1;33m)\u001b[0m\u001b[1;33m\u001b[0m\u001b[1;33m\u001b[0m\u001b[0m\n\u001b[0m\u001b[0;32m   1596\u001b[0m             \u001b[1;32mreturn\u001b[0m \u001b[0mcur\u001b[0m\u001b[1;33m\u001b[0m\u001b[1;33m\u001b[0m\u001b[0m\n\u001b[0;32m   1597\u001b[0m         \u001b[1;32mexcept\u001b[0m \u001b[0mException\u001b[0m \u001b[1;32mas\u001b[0m \u001b[0mexc\u001b[0m\u001b[1;33m:\u001b[0m\u001b[1;33m\u001b[0m\u001b[1;33m\u001b[0m\u001b[0m\n",
      "\u001b[1;31mDatabaseError\u001b[0m: Execution failed on sql 'SELECT * FROM knowledge_1;': no such table: knowledge_1"
     ]
    }
   ],
   "source": [
    "j=Graph_Data(file_type,e_class)"
   ]
  },
  {
   "cell_type": "code",
   "execution_count": null,
   "metadata": {
    "ExecuteTime": {
     "end_time": "2020-08-04T12:45:34.477883Z",
     "start_time": "2020-08-04T12:45:28.137Z"
    }
   },
   "outputs": [],
   "source": [
    "the_gui=The_Frame(root)"
   ]
  },
  {
   "cell_type": "code",
   "execution_count": null,
   "metadata": {
    "ExecuteTime": {
     "end_time": "2020-08-04T12:45:34.479836Z",
     "start_time": "2020-08-04T12:45:28.140Z"
    },
    "scrolled": false
   },
   "outputs": [],
   "source": [
    "mainloop()"
   ]
  },
  {
   "cell_type": "code",
   "execution_count": null,
   "metadata": {
    "collapsed": true,
    "deletable": false,
    "editable": false,
    "run_control": {
     "frozen": true
    },
    "scrolled": false
   },
   "outputs": [],
   "source": [
    "a=j.df.query('CLASSIFICATION==\"Documentation\"',inplace=True)"
   ]
  },
  {
   "cell_type": "markdown",
   "metadata": {},
   "source": [
    "# Extras"
   ]
  },
  {
   "cell_type": "code",
   "execution_count": null,
   "metadata": {},
   "outputs": [],
   "source": []
  }
 ],
 "metadata": {
  "hide_input": false,
  "kernelspec": {
   "display_name": "Python 3",
   "language": "python",
   "name": "python3"
  },
  "language_info": {
   "codemirror_mode": {
    "name": "ipython",
    "version": 3
   },
   "file_extension": ".py",
   "mimetype": "text/x-python",
   "name": "python",
   "nbconvert_exporter": "python",
   "pygments_lexer": "ipython3",
   "version": "3.7.4"
  },
  "latex_envs": {
   "LaTeX_envs_menu_present": true,
   "autoclose": false,
   "autocomplete": true,
   "bibliofile": "biblio.bib",
   "cite_by": "apalike",
   "current_citInitial": 1,
   "eqLabelWithNumbers": true,
   "eqNumInitial": 1,
   "hotkeys": {
    "equation": "Ctrl-E",
    "itemize": "Ctrl-I"
   },
   "labels_anchors": false,
   "latex_user_defs": false,
   "report_style_numbering": false,
   "user_envs_cfg": false
  },
  "toc": {
   "base_numbering": 1,
   "nav_menu": {},
   "number_sections": true,
   "sideBar": true,
   "skip_h1_title": false,
   "title_cell": "Table of Contents",
   "title_sidebar": "Contents",
   "toc_cell": false,
   "toc_position": {
    "height": "calc(100% - 180px)",
    "left": "10px",
    "top": "150px",
    "width": "165px"
   },
   "toc_section_display": true,
   "toc_window_display": true
  },
  "varInspector": {
   "cols": {
    "lenName": 16,
    "lenType": 16,
    "lenVar": 40
   },
   "kernels_config": {
    "python": {
     "delete_cmd_postfix": "",
     "delete_cmd_prefix": "del ",
     "library": "var_list.py",
     "varRefreshCmd": "print(var_dic_list())"
    },
    "r": {
     "delete_cmd_postfix": ") ",
     "delete_cmd_prefix": "rm(",
     "library": "var_list.r",
     "varRefreshCmd": "cat(var_dic_list()) "
    }
   },
   "types_to_exclude": [
    "module",
    "function",
    "builtin_function_or_method",
    "instance",
    "_Feature"
   ],
   "window_display": false
  }
 },
 "nbformat": 4,
 "nbformat_minor": 2
}
